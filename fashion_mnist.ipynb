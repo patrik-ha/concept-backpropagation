{
 "cells": [
  {
   "cell_type": "code",
   "execution_count": null,
   "metadata": {},
   "outputs": [],
   "source": [
    "import numpy as np\n",
    "import tensorflow.keras as keras\n",
    "import tensorflow as tf\n",
    "\n",
    "LATENT_SIZE = 128\n",
    "\n",
    "inputs = keras.Input((28, 28, 1))\n",
    "x = keras.layers.Conv2D(64, (3, 3), strides=(2, 2), activation=\"selu\", padding=\"same\")(inputs)\n",
    "x = keras.layers.MaxPooling2D((2, 2), padding=\"same\")(x)\n",
    "x = keras.layers.Conv2D(64, (3, 3), activation=\"selu\", padding=\"same\")(x)\n",
    "x = keras.layers.MaxPooling2D(2, 2, padding=\"same\")(x)\n",
    "x = keras.layers.Flatten()(x)\n",
    "x = keras.layers.Dense(4 * 4 * 16, activation=\"selu\")(x)\n",
    "latent = keras.layers.Dense(LATENT_SIZE, activation=\"sigmoid\")(x)\n",
    "\n",
    "latent_inputs = keras.Input(LATENT_SIZE)\n",
    "x = keras.layers.Dense(4 * 4 * 16, activation=\"selu\")(latent_inputs)\n",
    "x = keras.layers.Reshape((4, 4, 16))(x)\n",
    "x = keras.layers.Conv2DTranspose(64, (4, 4), strides=1, activation=\"selu\", padding=\"valid\")(x)\n",
    "x = keras.layers.Conv2DTranspose(64, (3, 3), strides=2, activation=\"selu\", padding=\"same\")(x)\n",
    "x = keras.layers.Conv2DTranspose(64, (2, 2), strides=2, activation=\"selu\", padding=\"same\")(x)\n",
    "x = keras.layers.Conv2DTranspose(64, (3, 3), strides=1, activation=\"selu\", padding=\"same\")(x)\n",
    "ae_outputs = keras.layers.Conv2D(1, (3, 3), activation=\"sigmoid\", padding=\"same\")(x)\n",
    "\n",
    "encoder = keras.Model(inputs, latent)\n",
    "\n",
    "decoder = keras.Model(latent_inputs, ae_outputs)\n",
    "\n",
    "enc_dec = encoder(inputs)\n",
    "\n",
    "ae_model_outputs = decoder(enc_dec)\n",
    "\n",
    "ae_model = keras.Model(inputs, ae_model_outputs)\n",
    "\n",
    "ae_model.compile(loss=keras.losses.BinaryCrossentropy(), optimizer=keras.optimizers.Adam())\n"
   ]
  },
  {
   "cell_type": "code",
   "execution_count": null,
   "metadata": {},
   "outputs": [],
   "source": [
    "import tensorflow_datasets as tfds\n",
    "\n",
    "(x_train, y_train), (x_test, y_test) = keras.datasets.fashion_mnist.load_data()\n",
    "\n",
    "x_train = x_train.astype(\"float32\") / 255\n",
    "x_test = x_test.astype(\"float32\") / 255\n",
    "# Make sure images have shape (28, 28, 1)\n",
    "x_train = np.expand_dims(x_train, -1)\n",
    "x_test = np.expand_dims(x_test, -1)"
   ]
  },
  {
   "cell_type": "code",
   "execution_count": null,
   "metadata": {},
   "outputs": [],
   "source": [
    "ae_model.fit(x_train, x_train, epochs=6, validation_data=(x_test, x_test), batch_size=256)"
   ]
  },
  {
   "cell_type": "code",
   "execution_count": null,
   "metadata": {},
   "outputs": [],
   "source": [
    "encoder.trainable = False\n",
    "decoder.trainable = False"
   ]
  },
  {
   "cell_type": "code",
   "execution_count": null,
   "metadata": {},
   "outputs": [],
   "source": [
    "res = ae_model(x_test[:4])"
   ]
  },
  {
   "cell_type": "code",
   "execution_count": null,
   "metadata": {},
   "outputs": [],
   "source": [
    "import matplotlib.pyplot as plt\n",
    "plt.axis(\"off\")\n",
    "plt.imshow(x_test[2], cmap=\"gray\")"
   ]
  },
  {
   "cell_type": "code",
   "execution_count": null,
   "metadata": {},
   "outputs": [],
   "source": [
    "plt.axis(\"off\")\n",
    "plt.imshow(res[2], cmap=\"gray\")"
   ]
  },
  {
   "cell_type": "code",
   "execution_count": null,
   "metadata": {},
   "outputs": [],
   "source": [
    "ae_model.trainable = False\n",
    "\n",
    "inputs = keras.Input((28, 28, 1))\n",
    "x = ae_model(inputs)\n",
    "x = keras.layers.Conv2D(16, (3, 3), strides=(2, 2), activation=\"selu\", padding=\"same\")(x)\n",
    "x = keras.layers.MaxPooling2D((2, 2), padding=\"same\")(x)\n",
    "x = keras.layers.Conv2D(16, (3, 3), activation=\"selu\", padding=\"same\")(x)\n",
    "x = keras.layers.MaxPooling2D((2, 2), padding=\"same\")(x)\n",
    "x = keras.layers.Conv2D(16, (3, 3), activation=\"selu\", padding=\"same\")(x)\n",
    "intermediate = keras.layers.Flatten()(x)\n",
    "x = keras.layers.MaxPooling2D((2, 2), padding=\"same\")(x)\n",
    "x = keras.layers.Flatten()(x)\n",
    "outputs = keras.layers.Dense(10, activation=\"selu\")(x)\n",
    "outputs = keras.layers.Softmax()(outputs)\n",
    "classifier = keras.Model(inputs, outputs)\n",
    "classifier.compile(loss=keras.losses.SparseCategoricalCrossentropy(), optimizer=keras.optimizers.Adam(), metrics=[\"accuracy\"])\n",
    "\n",
    "classifier_intermediate = keras.Model(inputs, intermediate)"
   ]
  },
  {
   "cell_type": "code",
   "execution_count": null,
   "metadata": {},
   "outputs": [],
   "source": [
    "classifier.fit(x_train, y_train, epochs=6, validation_data=(x_test, y_test), batch_size=256)"
   ]
  },
  {
   "cell_type": "code",
   "execution_count": null,
   "metadata": {},
   "outputs": [],
   "source": [
    "concept_index = []\n",
    "for case in x_test:\n",
    "    case = case.flatten()\n",
    "    concept_index.append((case > 0.7).sum() / (case > 0).sum())\n",
    "concept_index = np.array(concept_index)"
   ]
  },
  {
   "cell_type": "code",
   "execution_count": null,
   "metadata": {},
   "outputs": [],
   "source": [
    "intermediate_outputs = classifier_intermediate(inputs)\n",
    "\n",
    "probe_output = keras.layers.Dense(1, activity_regularizer=keras.regularizers.L1(0.1), activation=\"sigmoid\")(intermediate_outputs)\n",
    "\n",
    "probe = keras.Model(inputs, probe_output)\n",
    "probe.compile(loss=keras.losses.MeanSquaredError(), optimizer=keras.optimizers.Adam())\n",
    "\n",
    "probe_x_train, probe_y_train, probe_x_test, probe_y_test = x_test[:7000], concept_index[:7000], x_test[7000:], concept_index[7000:]"
   ]
  },
  {
   "cell_type": "code",
   "execution_count": null,
   "metadata": {},
   "outputs": [],
   "source": [
    "probe.fit(probe_x_train, probe_y_train, validation_data=(probe_x_test, probe_y_test), epochs=17)"
   ]
  },
  {
   "cell_type": "code",
   "execution_count": null,
   "metadata": {},
   "outputs": [],
   "source": [
    "encoded_image = encoder(inputs)\n",
    "maximiser_input = keras.Input(1)\n",
    "max_plane = keras.layers.Dense(LATENT_SIZE, name=\"max_plane\", activation=\"linear\")(maximiser_input)\n",
    "additive = keras.layers.Add()([max_plane, encoded_image])\n",
    "image_output = decoder(additive)\n",
    "image_output._name = \"image_output\"\n",
    "intermediate_output = classifier_intermediate(image_output)\n",
    "maximised_probe_output = keras.layers.Dense(1, name=\"max_probe_repl\", activity_regularizer=keras.regularizers.L1(0.01), activation=\"sigmoid\")(intermediate_output)\n",
    "maximiser_model = keras.Model([inputs, maximiser_input], [maximised_probe_output, image_output])\n",
    "decoder.trainable = False\n",
    "encoder.trainable = False\n",
    "classifier_intermediate.trainable = False\n",
    "look_at_results_output = decoder(additive)\n",
    "look_at_results_model = keras.Model([inputs, maximiser_input], look_at_results_output)\n",
    "\n",
    "maximiser_model.get_layer(\"max_probe_repl\").set_weights(probe.layers[-1].get_weights())\n",
    "maximiser_model.get_layer(\"max_probe_repl\").trainable = False\n",
    "\n",
    "maximiser_model.get_layer(\"max_plane\").trainable = True\n",
    "\n",
    "maximiser_model.compile(loss=[\"binary_crossentropy\", \"mean_squared_error\"], loss_weights=[1, 5], optimizer=keras.optimizers.Adam())"
   ]
  },
  {
   "cell_type": "code",
   "execution_count": null,
   "metadata": {},
   "outputs": [],
   "source": [
    "# 95, 41, 150, 777\n",
    "\n",
    "case = np.repeat(np.expand_dims(probe_x_test[41], axis=0), 64, axis=0)\n",
    "ones = np.expand_dims(np.ones(64), -1)"
   ]
  },
  {
   "cell_type": "code",
   "execution_count": null,
   "metadata": {},
   "outputs": [],
   "source": [
    "import matplotlib as mpl\n",
    "import matplotlib.style\n",
    "\n",
    "mpl.rcParams['figure.dpi'] = 100\n",
    "plt.imshow(case[0])"
   ]
  },
  {
   "cell_type": "code",
   "execution_count": null,
   "metadata": {},
   "outputs": [],
   "source": [
    "maximiser_model.fit([case, ones], [ones, case], epochs=600, batch_size=32)"
   ]
  },
  {
   "cell_type": "code",
   "execution_count": null,
   "metadata": {},
   "outputs": [],
   "source": [
    "import matplotlib as mpl\n",
    "import matplotlib.style\n",
    "\n",
    "mpl.style.use(\"seaborn-muted\")\n",
    "mpl.rcParams['figure.dpi'] = 300\n",
    "mpl.rcParams['font.family'] = \"serif\"\n",
    "\n",
    "_, image = maximiser_model([case, ones])\n",
    "\n",
    "_, axs = plt.subplots(1, 2, figsize=(12, 12))\n",
    "axs[1].axis(\"off\")\n",
    "axs[1].imshow(np.clip(image[0], 0.1, 1), cmap=\"gray\")\n",
    "axs[1].set_title(\"Maximised\", fontdict={\"fontsize\": 35})\n",
    "\n",
    "axs[0].axis(\"off\")\n",
    "axs[0].imshow(case[0], cmap=\"gray\")\n",
    "axs[0].set_title(\"Normal image\", fontdict={\"fontsize\": 35})\n"
   ]
  }
 ],
 "metadata": {
  "kernelspec": {
   "display_name": "Python 3",
   "language": "python",
   "name": "python3"
  },
  "language_info": {
   "codemirror_mode": {
    "name": "ipython",
    "version": 3
   },
   "file_extension": ".py",
   "mimetype": "text/x-python",
   "name": "python",
   "nbconvert_exporter": "python",
   "pygments_lexer": "ipython3",
   "version": "3.10.8"
  },
  "orig_nbformat": 4
 },
 "nbformat": 4,
 "nbformat_minor": 2
}
