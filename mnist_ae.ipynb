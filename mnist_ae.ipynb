{
 "cells": [
  {
   "cell_type": "code",
   "execution_count": null,
   "metadata": {},
   "outputs": [],
   "source": [
    "import numpy as np\n",
    "import tensorflow.keras as keras\n",
    "import tensorflow as tf\n",
    "\n",
    "LATENT_SIZE = 64\n",
    "\n",
    "inputs = keras.Input((28, 28, 1))\n",
    "x = keras.layers.Conv2D(32, (3, 3), strides=(2, 2), activation=\"selu\", padding=\"same\")(inputs)\n",
    "x = keras.layers.MaxPooling2D((2, 2), padding=\"same\")(x)\n",
    "x = keras.layers.Conv2D(32, (3, 3), activation=\"selu\", padding=\"same\")(x)\n",
    "x = keras.layers.MaxPooling2D(2, 2, padding=\"same\")(x)\n",
    "x = keras.layers.Flatten()(x)\n",
    "x = keras.layers.Dense(4 * 4 * 16, activation=\"selu\")(x)\n",
    "latent = keras.layers.Dense(LATENT_SIZE, activation=\"sigmoid\")(x)\n",
    "\n",
    "latent_inputs = keras.Input(LATENT_SIZE)\n",
    "x = keras.layers.Dense(4 * 4 * 16, activation=\"selu\")(latent_inputs)\n",
    "x = keras.layers.Reshape((4, 4, 16))(x)\n",
    "x = keras.layers.Conv2DTranspose(32, (4, 4), strides=1, activation=\"selu\", padding=\"valid\")(x)\n",
    "x = keras.layers.Conv2DTranspose(32, (3, 3), strides=2, activation=\"selu\", padding=\"same\")(x)\n",
    "x = keras.layers.Conv2DTranspose(32, (2, 2), strides=2, activation=\"selu\", padding=\"same\")(x)\n",
    "x = keras.layers.Conv2DTranspose(32, (3, 3), strides=1, activation=\"selu\", padding=\"same\")(x)\n",
    "ae_outputs = keras.layers.Conv2D(1, (3, 3), activation=\"sigmoid\", padding=\"same\")(x)\n",
    "\n",
    "encoder = keras.Model(inputs, latent)\n",
    "\n",
    "decoder = keras.Model(latent_inputs, ae_outputs)\n",
    "\n",
    "enc_dec = encoder(inputs)\n",
    "\n",
    "ae_model_outputs = decoder(enc_dec)\n",
    "\n",
    "ae_model = keras.Model(inputs, ae_model_outputs)\n",
    "\n",
    "ae_model.compile(loss=keras.losses.BinaryCrossentropy(), optimizer=keras.optimizers.Adam())\n"
   ]
  },
  {
   "cell_type": "code",
   "execution_count": null,
   "metadata": {},
   "outputs": [],
   "source": [
    "import tensorflow_datasets as tfds\n",
    "\n",
    "(x_train, y_train), (x_test, y_test) = keras.datasets.mnist.load_data()\n",
    "\n",
    "x_train = x_train.astype(\"float32\") / 255\n",
    "x_test = x_test.astype(\"float32\") / 255\n",
    "# Make sure images have shape (28, 28, 1)\n",
    "x_train = np.expand_dims(x_train, -1)\n",
    "x_test = np.expand_dims(x_test, -1)"
   ]
  },
  {
   "cell_type": "code",
   "execution_count": null,
   "metadata": {},
   "outputs": [],
   "source": [
    "ae_model.fit(x_train, x_train, epochs=6, validation_data=(x_test, x_test), batch_size=256)"
   ]
  },
  {
   "cell_type": "code",
   "execution_count": null,
   "metadata": {},
   "outputs": [],
   "source": [
    "encoder.trainable = False\n",
    "decoder.trainable = False"
   ]
  },
  {
   "cell_type": "code",
   "execution_count": null,
   "metadata": {},
   "outputs": [],
   "source": [
    "res = ae_model(x_test[:4])"
   ]
  },
  {
   "cell_type": "code",
   "execution_count": null,
   "metadata": {},
   "outputs": [],
   "source": [
    "import matplotlib.pyplot as plt\n",
    "\n",
    "plt.imshow(x_test[1])"
   ]
  },
  {
   "cell_type": "code",
   "execution_count": null,
   "metadata": {},
   "outputs": [],
   "source": [
    "plt.imshow(res[1])"
   ]
  },
  {
   "cell_type": "code",
   "execution_count": null,
   "metadata": {},
   "outputs": [],
   "source": [
    "ae_model.trainable = False\n",
    "\n",
    "inputs = keras.Input((28, 28, 1))\n",
    "x = ae_model(inputs)\n",
    "x = keras.layers.Conv2D(16, (3, 3), strides=(2, 2), activation=\"selu\", padding=\"same\")(x)\n",
    "x = keras.layers.MaxPooling2D((2, 2), padding=\"same\")(x)\n",
    "x = keras.layers.Conv2D(16, (3, 3), activation=\"selu\", padding=\"same\")(x)\n",
    "x = keras.layers.MaxPooling2D((2, 2), padding=\"same\")(x)\n",
    "x = keras.layers.Conv2D(16, (3, 3), activation=\"selu\", padding=\"same\")(x)\n",
    "x = keras.layers.MaxPooling2D((2, 2), padding=\"same\")(x)\n",
    "x = keras.layers.Flatten()(x)\n",
    "outputs = keras.layers.Dense(10, activation=\"selu\")(x)\n",
    "outputs = keras.layers.Softmax()(outputs)\n",
    "classifier = keras.Model(inputs, outputs)\n",
    "classifier.compile(loss=keras.losses.SparseCategoricalCrossentropy(), optimizer=keras.optimizers.Adam(), metrics=[\"accuracy\"])"
   ]
  },
  {
   "cell_type": "code",
   "execution_count": null,
   "metadata": {},
   "outputs": [],
   "source": [
    "classifier.fit(x_train, y_train, epochs=6, validation_data=(x_test, y_test), batch_size=256)"
   ]
  },
  {
   "cell_type": "code",
   "execution_count": null,
   "metadata": {},
   "outputs": [],
   "source": [
    "concept_index = np.isin(y_test, [0, 6, 8, 9])"
   ]
  },
  {
   "cell_type": "code",
   "execution_count": null,
   "metadata": {},
   "outputs": [],
   "source": [
    "encoder(x_test[concept_index])"
   ]
  },
  {
   "cell_type": "code",
   "execution_count": null,
   "metadata": {},
   "outputs": [],
   "source": [
    "probe_input = encoder(inputs)\n",
    "probe_output = keras.layers.Dense(1, activity_regularizer=keras.regularizers.L1(0.1), activation=\"sigmoid\")(probe_input)\n",
    "\n",
    "probe = keras.Model(inputs, probe_output)\n",
    "probe.compile(loss=keras.losses.BinaryCrossentropy(), optimizer=keras.optimizers.Adam(), metrics=[\"accuracy\"])\n",
    "\n",
    "probe_x_train, probe_y_train, probe_x_test, probe_y_test = x_test[:7000], concept_index[:7000], x_test[7000:], concept_index[7000:]"
   ]
  },
  {
   "cell_type": "code",
   "execution_count": null,
   "metadata": {},
   "outputs": [],
   "source": [
    "probe.fit(probe_x_train, probe_y_train, validation_data=(probe_x_test, probe_y_test), epochs=25)"
   ]
  },
  {
   "cell_type": "code",
   "execution_count": null,
   "metadata": {},
   "outputs": [],
   "source": [
    "encoded_image = encoder(inputs)\n",
    "maximiser_input = keras.Input(1)\n",
    "max_plane = keras.layers.Dense(LATENT_SIZE, name=\"max_plane\", activity_regularizer=keras.regularizers.L1(0.01), activation=\"linear\")(maximiser_input)\n",
    "additive = keras.layers.Add()([max_plane, encoded_image])\n",
    "image_output = decoder(additive)\n",
    "image_output._name = \"image_output\"\n",
    "maximised_probe_output = keras.layers.Dense(1, name=\"max_probe_repl\", activation=\"sigmoid\")(additive)\n",
    "maximiser_model = keras.Model([inputs, maximiser_input], [maximised_probe_output, image_output])\n",
    "look_at_results_output = decoder(additive)\n",
    "look_at_results_model = keras.Model([inputs, maximiser_input], look_at_results_output)\n",
    "\n",
    "maximiser_model.get_layer(\"max_probe_repl\").set_weights(probe.layers[-1].get_weights())\n",
    "maximiser_model.get_layer(\"max_probe_repl\").trainable = False\n",
    "\n",
    "maximiser_model.get_layer(\"max_plane\").trainable = True\n",
    "\n",
    "maximiser_model.compile(loss=[\"binary_crossentropy\", \"mean_squared_error\"], loss_weights=[1, 0.25], optimizer=keras.optimizers.Adam())"
   ]
  },
  {
   "cell_type": "code",
   "execution_count": null,
   "metadata": {},
   "outputs": [],
   "source": [
    "case = np.repeat(np.expand_dims(probe_x_test[73], axis=0), 64, axis=0)\n",
    "ones = np.expand_dims(np.ones(64), -1)"
   ]
  },
  {
   "cell_type": "code",
   "execution_count": null,
   "metadata": {},
   "outputs": [],
   "source": [
    "mpl.rcParams['figure.dpi'] = 100\n",
    "plt.imshow(case[3])"
   ]
  },
  {
   "cell_type": "code",
   "execution_count": null,
   "metadata": {},
   "outputs": [],
   "source": [
    "maximiser_model.fit([case, ones], [ones, decoder(encoder(case))], epochs=75, batch_size=32)"
   ]
  },
  {
   "cell_type": "code",
   "execution_count": null,
   "metadata": {},
   "outputs": [],
   "source": [
    "import matplotlib as mpl\n",
    "import matplotlib.style\n",
    "\n",
    "mpl.style.use(\"seaborn-muted\")\n",
    "mpl.rcParams['figure.dpi'] = 300\n",
    "mpl.rcParams['font.family'] = \"serif\"\n",
    "\n",
    "_, image = maximiser_model([case, ones])\n",
    "\n",
    "_, axs = plt.subplots(1, 2, figsize=(12, 12))\n",
    "axs[1].axis(\"off\")\n",
    "axs[1].imshow(np.clip(image[0], 0.1, 1), cmap=\"gray\")\n",
    "axs[1].set_title(\"Maximised\", fontdict={\"fontsize\": 35})\n",
    "\n",
    "axs[0].axis(\"off\")\n",
    "axs[0].imshow(case[0], cmap=\"gray\")\n",
    "axs[0].set_title(\"Normal image\", fontdict={\"fontsize\": 35})\n"
   ]
  }
 ],
 "metadata": {
  "interpreter": {
   "hash": "9d9f6b2873fc084d227b15726712ab1900ec0ba5ea6efe9d96b3a051a1838b5f"
  },
  "kernelspec": {
   "display_name": "Python 3.8.6 64-bit",
   "language": "python",
   "name": "python3"
  },
  "language_info": {
   "codemirror_mode": {
    "name": "ipython",
    "version": 3
   },
   "file_extension": ".py",
   "mimetype": "text/x-python",
   "name": "python",
   "nbconvert_exporter": "python",
   "pygments_lexer": "ipython3",
   "version": "3.8.6"
  },
  "orig_nbformat": 4
 },
 "nbformat": 4,
 "nbformat_minor": 2
}
